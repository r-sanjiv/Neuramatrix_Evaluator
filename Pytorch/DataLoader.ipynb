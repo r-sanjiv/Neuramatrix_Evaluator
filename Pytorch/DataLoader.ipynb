{
 "cells": [
  {
   "cell_type": "code",
   "execution_count": 30,
   "metadata": {},
   "outputs": [],
   "source": [
    "from AvDataloader import NeuraMatrixDataset\n",
    "import albumentations as A\n",
    "from albumentations.pytorch import ToTensorV2\n",
    "import numpy as np\n",
    "import torch\n",
    "import torchvision\n",
    "from tqdm.notebook import tqdm\n",
    "from torchvision import transforms\n",
    "import torch.nn as nn\n",
    "from torchmetrics import Accuracy\n",
    "import torch.nn.functional as F\n",
    "import os\n",
    "import matplotlib.pyplot as plt"
   ]
  },
  {
   "cell_type": "code",
   "execution_count": 2,
   "metadata": {},
   "outputs": [],
   "source": [
    "Team_name=\"Name\""
   ]
  },
  {
   "cell_type": "code",
   "execution_count": 3,
   "metadata": {},
   "outputs": [],
   "source": [
    "#Sample function to write Data Transformation \n",
    "def custum_transformation(image):\n",
    "    im=np.array(image)\n",
    "    transformations=A.Compose([\n",
    "        A.Normalize(),\n",
    "        ToTensorV2()]\n",
    "    )\n",
    "    return transformations(image=im)['image']"
   ]
  },
  {
   "cell_type": "code",
   "execution_count": 4,
   "metadata": {},
   "outputs": [
    {
     "name": "stdout",
     "output_type": "stream",
     "text": [
      " \n",
      "            Data set for the event of this symposium Avinyaa 24 this uses the CIFAR-10 Dataset\n",
      "\n",
      "            Which is loaded from the torchvision.datasets.CIFAR10 and with the random state.\n",
      "\n",
      "            we further more split the training and testing size on to the user's Wish \n",
      "\n",
      "            and Data transformaions techniques could also been left to users to do\n",
      "\n",
      "            or it is uses tensor and normalization on Imagenet weights by default\n",
      "\n",
      "            The torch is prefered If you are using albumentations Write them as a seperate function\n",
      " \n",
      "            and put them in the transform\n",
      "\n",
      "Parameters:\n",
      "\n",
      "            val_size: the size of the validation/dev set\n",
      "\n",
      "            rand_state: custum random state default 42\n",
      "\n",
      "Methods\n",
      "\n",
      "            get_train_validation_dataset\n",
      "\n",
      "            Returns \n",
      "\n",
      "            Training_data,testing_data\n",
      "\n",
      "            \n",
      "Files already downloaded and verified\n",
      "Files already downloaded and verified\n"
     ]
    }
   ],
   "source": [
    "custum_trans=False #set to true if you are using other like Albumentations\n",
    "if custum_trans:\n",
    "    transform=custum_transformation\n",
    "else:\n",
    "    transform=transforms.Compose(\n",
    "        [   \n",
    "            transforms.ToTensor(),\n",
    "            transforms.Normalize(mean=(0.485, 0.456, 0.406),std=(0.229, 0.224, 0.225))\n",
    "        ]\n",
    "    )\n",
    "\n",
    "dataset=NeuraMatrixDataset(val_size=0.2,transform=transform)"
   ]
  },
  {
   "cell_type": "code",
   "execution_count": 5,
   "metadata": {},
   "outputs": [],
   "source": [
    "train,validation=dataset.get_train_validation_dataset()\n",
    "test_dataset=dataset.get_test_dataset()"
   ]
  },
  {
   "cell_type": "code",
   "execution_count": 9,
   "metadata": {},
   "outputs": [],
   "source": [
    "def iter_through_traindataset(dataset,model,device,Accuracy_fn,loss_fn,optimizer):\n",
    "    running_loss=[]\n",
    "    running_accuracy=[]\n",
    "    model.train()\n",
    "    for i in tqdm(dataset,total=len(dataset)):\n",
    "        optimizer.zero_grad()\n",
    "        image,label=i\n",
    "        image=image.to(device)\n",
    "        label=F.one_hot(label.long(),num_classes=10).float()\n",
    "        y_pred=model(image)\n",
    "\n",
    "        y_pred_labels=y_pred.argmax(dim=1)\n",
    "        \n",
    "        loss=loss_fn(y_pred,label)\n",
    "        \n",
    "        loss.backward()\n",
    "\n",
    "        accuracy=Accuracy_fn(\n",
    "            label.argmax(dim=1),\n",
    "            y_pred_labels\n",
    "        )\n",
    "\n",
    "        optimizer.step()\n",
    "\n",
    "        running_loss.append(loss.item())\n",
    "        running_accuracy.append(accuracy.item())\n",
    "\n",
    "    return np.mean(running_loss),np.mean(running_accuracy)        "
   ]
  },
  {
   "cell_type": "code",
   "execution_count": 10,
   "metadata": {},
   "outputs": [],
   "source": [
    "def iter_through_valdataset(dataset,model,device,Accuracy_fn,loss_fn):\n",
    "    with torch.no_grad():\n",
    "        running_loss=[]\n",
    "        running_accuracy=[]\n",
    "        model.eval()\n",
    "        for i in tqdm(dataset,total=len(dataset)):\n",
    "            image,label=i\n",
    "            image=image.to(device)\n",
    "            label=F.one_hot(label.long(),num_classes=10).float()\n",
    "\n",
    "            y_pred=model(image)\n",
    "\n",
    "            y_pred_labels=y_pred.argmax(dim=1)\n",
    "            loss=loss_fn(y_pred,label)\n",
    "\n",
    "            accuracy=Accuracy_fn(\n",
    "            label.argmax(dim=1),\n",
    "            y_pred_labels\n",
    "            )\n",
    "\n",
    "            running_loss.append(loss.item())\n",
    "            running_accuracy.append(accuracy.item())\n",
    "\n",
    "        return np.mean(running_loss),np.mean(running_accuracy)"
   ]
  },
  {
   "cell_type": "code",
   "execution_count": 11,
   "metadata": {},
   "outputs": [],
   "source": [
    "def training_model(model,loss_fn,device,accuracy_fn,train_data,val_data,epochs,lr=1e-3):\n",
    "    history={\n",
    "        \n",
    "    }\n",
    "    model=model.to(device)\n",
    "    best_val=1000000.0\n",
    "    optimizer=torch.optim.AdamW(model.parameters(),lr=lr)\n",
    "    os.makedirs(f\"Modelweights_{Team_name}\")\n",
    "    for epoch in range(epochs):\n",
    "        print(f\" Epoch: {epoch+1} \\n\")\n",
    "        train_loss,train_acc=iter_through_traindataset(train_data,model,device,accuracy_fn,loss_fn,optimizer)\n",
    "        \n",
    "        if not 'train_loss' in history.keys():\n",
    "            history['train_loss']=[train_loss]\n",
    "        else:\n",
    "            history['train_loss'].append(train_loss)\n",
    "        \n",
    "        if not 'train_acc' in history.keys():\n",
    "            history['train_acc']=[train_acc]\n",
    "        else:\n",
    "            history['train_acc'].append(train_acc)\n",
    "\n",
    "        val_loss,val_acc=iter_through_valdataset(val_data,model=model,device=device,Accuracy_fn=accuracy_fn,loss_fn=loss_fn)\n",
    "        \n",
    "        if not 'val_loss' in history.keys():\n",
    "            history['val_loss']=[val_loss]\n",
    "        else:\n",
    "            history['val_loss'].append(val_loss)\n",
    "        \n",
    "        if not 'val_acc' in history.keys():\n",
    "            history['val_acc']=[val_acc]\n",
    "        else:\n",
    "            history['val_acc'].append(val_acc)\n",
    "        \n",
    "\n",
    "        if val_loss < best_val: # type: ignore\n",
    "            print(\"best validation loss is found\")\n",
    "            torch.save(model.state_dict(),\"Modelweights/best_model.pth\")\n",
    "\n",
    "\n",
    "        print(f\"\"\"\n",
    "                    train_loss {train_loss},\n",
    "                    val_loss {val_loss},\\n\n",
    "                    train_acc {train_acc},\n",
    "                    val_acc {val_acc}\"\"\")"
   ]
  },
  {
   "cell_type": "code",
   "execution_count": 19,
   "metadata": {},
   "outputs": [],
   "source": [
    "def test_model(model,loss_fn,device,accuracy_fn,dataset,f1_score):\n",
    "    with torch.no_grad():\n",
    "        running_loss=[]\n",
    "        running_accuracy=[]\n",
    "        running_f1score=[]\n",
    "        model=model.to(device)\n",
    "        model.eval()\n",
    "        for i in tqdm(dataset,total=len(dataset)):\n",
    "            image,label=i\n",
    "            image=image.to(device)\n",
    "            label=F.one_hot(label.long(),num_classes=10).float()\n",
    "\n",
    "            y_pred=model(image)\n",
    "\n",
    "            y_pred_labels=y_pred.argmax(dim=1)\n",
    "            loss=loss_fn(y_pred,label)\n",
    "\n",
    "            accuracy=accuracy_fn(\n",
    "            label.argmax(dim=1),\n",
    "            y_pred_labels\n",
    "            )\n",
    "            f1=f1_score(\n",
    "            label.argmax(dim=1),\n",
    "            y_pred_labels \n",
    "            )\n",
    "\n",
    "            running_loss.append(loss.item())\n",
    "            running_accuracy.append(accuracy.item())\n",
    "\n",
    "            running_f1score.append(f1.item())\n",
    "        return np.mean(running_loss),np.mean(running_accuracy),np.mean(running_f1score)\n",
    "    "
   ]
  },
  {
   "cell_type": "code",
   "execution_count": 13,
   "metadata": {},
   "outputs": [],
   "source": [
    "class Neuramatrixmodel(nn.Module):\n",
    "    def __init__(self,input=32):\n",
    "        super().__init__()\n",
    "        self.input=input\n",
    "        self.net=nn.Sequential(\n",
    "                nn.Linear(32*32*3,64),\n",
    "                nn.Linear(64,32),\n",
    "                nn.Linear(32,10)\n",
    "            )\n",
    "    def forward(self,x):\n",
    "        x=x.view(-1,32*32*3)\n",
    "        x=self.net(x)\n",
    "        return x"
   ]
  },
  {
   "cell_type": "code",
   "execution_count": 14,
   "metadata": {},
   "outputs": [],
   "source": [
    "from torchmetrics import F1Score\n",
    "\n",
    "\n",
    "loss_fn=nn.CrossEntropyLoss()\n",
    "acc_fn=Accuracy(task=\"multiclass\",num_classes=10)\n",
    "device=torch.device(\"cpu\" if torch.cuda.is_available() else \"cuda\")\n",
    "f1_score=F1Score(task=\"multiclass\",num_classes=10)"
   ]
  },
  {
   "cell_type": "code",
   "execution_count": 15,
   "metadata": {},
   "outputs": [
    {
     "data": {
      "text/plain": [
       "Neuramatrixmodel(\n",
       "  (net): Sequential(\n",
       "    (0): Linear(in_features=3072, out_features=64, bias=True)\n",
       "    (1): Linear(in_features=64, out_features=32, bias=True)\n",
       "    (2): Linear(in_features=32, out_features=10, bias=True)\n",
       "  )\n",
       ")"
      ]
     },
     "execution_count": 15,
     "metadata": {},
     "output_type": "execute_result"
    }
   ],
   "source": [
    "model=Neuramatrixmodel()\n",
    "model"
   ]
  },
  {
   "cell_type": "code",
   "execution_count": 17,
   "metadata": {},
   "outputs": [
    {
     "name": "stdout",
     "output_type": "stream",
     "text": [
      " Epoch: 1 \n",
      "\n"
     ]
    },
    {
     "data": {
      "application/vnd.jupyter.widget-view+json": {
       "model_id": "543f1950be8d4933ac5cde3e8984d181",
       "version_major": 2,
       "version_minor": 0
      },
      "text/plain": [
       "  0%|          | 0/1250 [00:00<?, ?it/s]"
      ]
     },
     "metadata": {},
     "output_type": "display_data"
    },
    {
     "data": {
      "application/vnd.jupyter.widget-view+json": {
       "model_id": "fcf08b281f7145bd96e92bcbf595a3a6",
       "version_major": 2,
       "version_minor": 0
      },
      "text/plain": [
       "  0%|          | 0/313 [00:00<?, ?it/s]"
      ]
     },
     "metadata": {},
     "output_type": "display_data"
    },
    {
     "name": "stdout",
     "output_type": "stream",
     "text": [
      "best validation loss is found\n",
      "\n",
      "                    train_loss 1.8664777216911317,\n",
      "                    val_loss 1.7806838788925268,\n",
      "\n",
      "                    train_acc 0.36065,\n",
      "                    val_acc 0.3798921725239617\n",
      " Epoch: 2 \n",
      "\n"
     ]
    },
    {
     "data": {
      "application/vnd.jupyter.widget-view+json": {
       "model_id": "5e807d3e61264b8c9ff46106359ba202",
       "version_major": 2,
       "version_minor": 0
      },
      "text/plain": [
       "  0%|          | 0/1250 [00:00<?, ?it/s]"
      ]
     },
     "metadata": {},
     "output_type": "display_data"
    },
    {
     "data": {
      "application/vnd.jupyter.widget-view+json": {
       "model_id": "112037a2fba349118e93470d89addee1",
       "version_major": 2,
       "version_minor": 0
      },
      "text/plain": [
       "  0%|          | 0/313 [00:00<?, ?it/s]"
      ]
     },
     "metadata": {},
     "output_type": "display_data"
    },
    {
     "name": "stdout",
     "output_type": "stream",
     "text": [
      "best validation loss is found\n",
      "\n",
      "                    train_loss 1.749252691078186,\n",
      "                    val_loss 1.7195757955027084,\n",
      "\n",
      "                    train_acc 0.402425,\n",
      "                    val_acc 0.40884584664536744\n",
      " Epoch: 3 \n",
      "\n"
     ]
    },
    {
     "data": {
      "application/vnd.jupyter.widget-view+json": {
       "model_id": "f666e3be9a49433dbc2d5065b3fdf3d7",
       "version_major": 2,
       "version_minor": 0
      },
      "text/plain": [
       "  0%|          | 0/1250 [00:00<?, ?it/s]"
      ]
     },
     "metadata": {},
     "output_type": "display_data"
    },
    {
     "data": {
      "application/vnd.jupyter.widget-view+json": {
       "model_id": "f1bd879fc3e34e069cb0206a29f893e2",
       "version_major": 2,
       "version_minor": 0
      },
      "text/plain": [
       "  0%|          | 0/313 [00:00<?, ?it/s]"
      ]
     },
     "metadata": {},
     "output_type": "display_data"
    },
    {
     "name": "stdout",
     "output_type": "stream",
     "text": [
      "best validation loss is found\n",
      "\n",
      "                    train_loss 1.7124650541305542,\n",
      "                    val_loss 1.7183786512563786,\n",
      "\n",
      "                    train_acc 0.41575,\n",
      "                    val_acc 0.42342252396166136\n"
     ]
    }
   ],
   "source": [
    "training_model(model,loss_fn=loss_fn,accuracy_fn=acc_fn,train_data=t,val_data=v,lr=1e-4,device=device,epochs=3)"
   ]
  },
  {
   "cell_type": "code",
   "execution_count": 23,
   "metadata": {},
   "outputs": [],
   "source": [
    "from sklearn.metrics import confusion_matrix\n",
    "import seaborn as sns"
   ]
  },
  {
   "cell_type": "code",
   "execution_count": 37,
   "metadata": {},
   "outputs": [],
   "source": [
    "def give_results(model,loss_fn,f1_score,device,dataset,accuracy_fn):\n",
    "    test_loss,test_acc,test_f1=test_model(model,loss_fn=loss_fn,f1_score=f1_score,device=device,dataset=dataset,accuracy_fn=accuracy_fn)\n",
    "    total_labels=[]\n",
    "    y_pred_labels=[]\n",
    "    with torch.no_grad():\n",
    "        for image, label in dataset:\n",
    "            cu_l=label\n",
    "            image=image.to(device)\n",
    "            y_pred=model(image)\n",
    "            y_pred_label=y_pred.argmax(dim=1)\n",
    "            total_labels.extend(cu_l.tolist())\n",
    "            y_pred_labels.extend(y_pred_label.tolist())\n",
    "            print(y_pred_labels,cu_l)\n",
    "    cm=confusion_matrix(y_true=total_labels,y_pred=y_pred_labels)\n",
    "    plt.figure(figsize=(10,10))\n",
    "    sns.heatmap(cm,annot=True)\n",
    "\n",
    "    print(f\" Test loss {test_loss}, Test acc {test_acc}, Test F1 {test_f1}\")\n",
    "    return test_loss, test_acc , test_f1"
   ]
  },
  {
   "cell_type": "code",
   "execution_count": 38,
   "metadata": {},
   "outputs": [
    {
     "data": {
      "application/vnd.jupyter.widget-view+json": {
       "model_id": "be92ccb2f2bf435da1208103d3f3f6b4",
       "version_major": 2,
       "version_minor": 0
      },
      "text/plain": [
       "  0%|          | 0/313 [00:00<?, ?it/s]"
      ]
     },
     "metadata": {},
     "output_type": "display_data"
    },
    {
     "name": "stdout",
     "output_type": "stream",
     "text": [
      "[4, 2, 9, 6, 2, 6, 3, 6, 8, 0, 2, 5, 3, 8, 9, 3, 9, 2, 9, 5, 4, 9, 5, 0, 1, 8, 3, 3, 0, 7, 6, 3] tensor([4, 2, 3, 6, 2, 6, 6, 9, 8, 2, 2, 6, 3, 8, 1, 6, 8, 4, 9, 8, 2, 9, 3, 4,\n",
      "        1, 1, 0, 3, 1, 9, 3, 5])\n",
      " Test loss 1.7694444919165713, Test acc 0.39237220447284343, Test F1 0.39237220447284343\n"
     ]
    },
    {
     "data": {
      "text/plain": [
       "(1.7694444919165713, 0.39237220447284343, 0.39237220447284343)"
      ]
     },
     "execution_count": 38,
     "metadata": {},
     "output_type": "execute_result"
    },
    {
     "data": {
      "image/png": "[encoded data removed]",
      "text/plain": [
       "<Figure size 1000x1000 with 2 Axes>"
      ]
     },
     "metadata": {},
     "output_type": "display_data"
    }
   ],
   "source": [
    "give_results(model,loss_fn,f1_score,device,test_dataset,acc_fn)"
   ]
  },
  {
   "cell_type": "code",
   "execution_count": 27,
   "metadata": {},
   "outputs": [
    {
     "data": {
      "text/plain": [
       "tensor([0])"
      ]
     },
     "execution_count": 27,
     "metadata": {},
     "output_type": "execute_result"
    }
   ],
   "source": [
    "torch.randn(1,10).argmax(dim=1)"
   ]
  },
  {
   "cell_type": "code",
   "execution_count": null,
   "metadata": {},
   "outputs": [],
   "source": []
  }
 ],
 "metadata": {
  "kernelspec": {
   "display_name": "Python 3",
   "language": "python",
   "name": "python3"
  },
  "language_info": {
   "codemirror_mode": {
    "name": "ipython",
    "version": 3
   },
   "file_extension": ".py",
   "mimetype": "text/x-python",
   "name": "python",
   "nbconvert_exporter": "python",
   "pygments_lexer": "ipython3",
   "version": "3.10.10"
  }
 },
 "nbformat": 4,
 "nbformat_minor": 2
}
